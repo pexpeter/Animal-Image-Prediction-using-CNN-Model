{
 "cells": [
  {
   "cell_type": "code",
   "execution_count": 5,
   "metadata": {},
   "outputs": [],
   "source": [
    "import tensorflow as tf\n",
    "from tensorflow.keras.preprocessing.image import ImageDataGenerator"
   ]
  },
  {
   "cell_type": "code",
   "execution_count": 6,
   "metadata": {},
   "outputs": [],
   "source": [
    "# Set up the data generators\n",
    "train_dir = 'data/train'\n",
    "test_dir =  'data/test'\n",
    "batch_size = 32"
   ]
  },
  {
   "cell_type": "code",
   "execution_count": 7,
   "metadata": {},
   "outputs": [],
   "source": [
    "train_datagen = ImageDataGenerator(\n",
    "    rescale=1./255,\n",
    "    shear_range=0.2,\n",
    "    zoom_range=0.2,\n",
    "    horizontal_flip=True)\n",
    "\n",
    "test_datagen = ImageDataGenerator(rescale=1./255)"
   ]
  },
  {
   "cell_type": "code",
   "execution_count": 13,
   "metadata": {},
   "outputs": [
    {
     "name": "stdout",
     "output_type": "stream",
     "text": [
      "Found 22566 images belonging to 80 classes.\n"
     ]
    }
   ],
   "source": [
    "train_generator = train_datagen.flow_from_directory(\n",
    "    train_dir,\n",
    "    target_size=(224, 224),\n",
    "    batch_size=batch_size,\n",
    "    class_mode='binary')"
   ]
  },
  {
   "cell_type": "code",
   "execution_count": 6,
   "metadata": {},
   "outputs": [
    {
     "name": "stdout",
     "output_type": "stream",
     "text": [
      "Found 6505 images belonging to 80 classes.\n"
     ]
    }
   ],
   "source": [
    "test_generator = test_datagen.flow_from_directory(\n",
    "    test_dir,\n",
    "    target_size=(224, 224),\n",
    "    batch_size=batch_size,\n",
    "    class_mode='')"
   ]
  },
  {
   "cell_type": "code",
   "execution_count": 7,
   "metadata": {},
   "outputs": [],
   "source": [
    "# Create the CNN model\n",
    "model = tf.keras.models.Sequential([\n",
    "    tf.keras.layers.Conv2D(32, (3, 3), activation='relu', input_shape=(224, 224, 3)),\n",
    "    tf.keras.layers.MaxPooling2D((2, 2)),\n",
    "    tf.keras.layers.Conv2D(64, (3, 3), activation='relu'),\n",
    "    tf.keras.layers.MaxPooling2D((2, 2)),\n",
    "    tf.keras.layers.Conv2D(128, (3, 3), activation='relu'),\n",
    "    tf.keras.layers.MaxPooling2D((2, 2)),\n",
    "    tf.keras.layers.Conv2D(128, (3, 3), activation='relu'),\n",
    "    tf.keras.layers.MaxPooling2D((2, 2)),\n",
    "    tf.keras.layers.Flatten(),\n",
    "    tf.keras.layers.Dense(512, activation='relu'),\n",
    "    tf.keras.layers.Dense(80, activation='softmax')\n",
    "])"
   ]
  },
  {
   "cell_type": "code",
   "execution_count": 8,
   "metadata": {},
   "outputs": [],
   "source": [
    "# Compile the model\n",
    "model.compile(optimizer='adam',\n",
    "              loss='categorical_crossentropy',\n",
    "              metrics=['accuracy'])"
   ]
  },
  {
   "cell_type": "code",
   "execution_count": 9,
   "metadata": {},
   "outputs": [
    {
     "name": "stdout",
     "output_type": "stream",
     "text": [
      "Epoch 1/10\n",
      "705/705 [==============================] - 3997s 6s/step - loss: 3.7412 - accuracy: 0.1227 - val_loss: 4.0650 - val_accuracy: 0.0978\n",
      "Epoch 2/10\n",
      "705/705 [==============================] - 2909s 4s/step - loss: 3.3600 - accuracy: 0.1848 - val_loss: 3.5733 - val_accuracy: 0.1603\n",
      "Epoch 3/10\n",
      "705/705 [==============================] - 2948s 4s/step - loss: 3.0758 - accuracy: 0.2353 - val_loss: 3.4588 - val_accuracy: 0.1817\n",
      "Epoch 4/10\n",
      "705/705 [==============================] - 2607s 4s/step - loss: 2.8466 - accuracy: 0.2772 - val_loss: 3.4132 - val_accuracy: 0.1855\n",
      "Epoch 5/10\n",
      "705/705 [==============================] - 2321s 3s/step - loss: 2.6439 - accuracy: 0.3225 - val_loss: 3.2823 - val_accuracy: 0.2061\n",
      "Epoch 6/10\n",
      "705/705 [==============================] - 2109s 3s/step - loss: 2.4508 - accuracy: 0.3620 - val_loss: 3.2689 - val_accuracy: 0.2326\n",
      "Epoch 7/10\n",
      "705/705 [==============================] - 2729s 4s/step - loss: 2.2776 - accuracy: 0.3932 - val_loss: 3.1664 - val_accuracy: 0.2509\n",
      "Epoch 8/10\n",
      "705/705 [==============================] - 2613s 4s/step - loss: 2.1000 - accuracy: 0.4342 - val_loss: 3.3294 - val_accuracy: 0.2468\n",
      "Epoch 9/10\n",
      "705/705 [==============================] - 2665s 4s/step - loss: 1.9403 - accuracy: 0.4670 - val_loss: 3.3680 - val_accuracy: 0.2466\n",
      "Epoch 10/10\n",
      "705/705 [==============================] - 2741s 4s/step - loss: 1.8187 - accuracy: 0.4934 - val_loss: 3.4946 - val_accuracy: 0.2462\n"
     ]
    }
   ],
   "source": [
    "# Train the model\n",
    "history = model.fit(train_generator,\n",
    "                    steps_per_epoch=train_generator.n // batch_size,\n",
    "                    epochs=10,\n",
    "                    validation_data=test_generator,\n",
    "                    validation_steps=test_generator.n // batch_size)"
   ]
  },
  {
   "cell_type": "code",
   "execution_count": 10,
   "metadata": {},
   "outputs": [
    {
     "name": "stdout",
     "output_type": "stream",
     "text": [
      "Model: \"sequential\"\n",
      "_________________________________________________________________\n",
      " Layer (type)                Output Shape              Param #   \n",
      "=================================================================\n",
      " conv2d (Conv2D)             (None, 222, 222, 32)      896       \n",
      "                                                                 \n",
      " max_pooling2d (MaxPooling2D  (None, 111, 111, 32)     0         \n",
      " )                                                               \n",
      "                                                                 \n",
      " conv2d_1 (Conv2D)           (None, 109, 109, 64)      18496     \n",
      "                                                                 \n",
      " max_pooling2d_1 (MaxPooling  (None, 54, 54, 64)       0         \n",
      " 2D)                                                             \n",
      "                                                                 \n",
      " conv2d_2 (Conv2D)           (None, 52, 52, 128)       73856     \n",
      "                                                                 \n",
      " max_pooling2d_2 (MaxPooling  (None, 26, 26, 128)      0         \n",
      " 2D)                                                             \n",
      "                                                                 \n",
      " conv2d_3 (Conv2D)           (None, 24, 24, 128)       147584    \n",
      "                                                                 \n",
      " max_pooling2d_3 (MaxPooling  (None, 12, 12, 128)      0         \n",
      " 2D)                                                             \n",
      "                                                                 \n",
      " flatten (Flatten)           (None, 18432)             0         \n",
      "                                                                 \n",
      " dense (Dense)               (None, 512)               9437696   \n",
      "                                                                 \n",
      " dense_1 (Dense)             (None, 80)                41040     \n",
      "                                                                 \n",
      "=================================================================\n",
      "Total params: 9,719,568\n",
      "Trainable params: 9,719,568\n",
      "Non-trainable params: 0\n",
      "_________________________________________________________________\n"
     ]
    }
   ],
   "source": [
    "model.summary()"
   ]
  },
  {
   "cell_type": "code",
   "execution_count": 11,
   "metadata": {},
   "outputs": [
    {
     "name": "stdout",
     "output_type": "stream",
     "text": [
      "204/204 - 377s - loss: 3.4941 - accuracy: 0.2464 - 377s/epoch - 2s/step\n",
      "Test accuracy: 0.2464258223772049\n"
     ]
    }
   ],
   "source": [
    "# Evaluate the model\n",
    "test_loss, test_acc = model.evaluate(test_generator, verbose=2)\n",
    "print('Test accuracy:', test_acc)"
   ]
  },
  {
   "cell_type": "code",
   "execution_count": 12,
   "metadata": {},
   "outputs": [
    {
     "data": {
      "text/plain": [
       "['model.pkl']"
      ]
     },
     "execution_count": 12,
     "metadata": {},
     "output_type": "execute_result"
    }
   ],
   "source": [
    "import joblib\n",
    "joblib.dump(model, 'model.pkl')"
   ]
  },
  {
   "cell_type": "code",
   "execution_count": null,
   "metadata": {},
   "outputs": [],
   "source": [
    "import numpy as np\n",
    "from tensorflow.keras.preprocessing import image\n",
    "\n",
    "def predict_image_class(image_path, model):\n",
    "    # Load the image and convert it to a numpy array\n",
    "    img = image.load_img(image_path, target_size=(224, 224))\n",
    "    img_arr = image.img_to_array(img)\n",
    "    img_arr = np.expand_dims(img_arr, axis=0)\n",
    "\n",
    "    # Scale the pixel values to be between 0 and 1\n",
    "    img_arr /= 255.0\n",
    "\n",
    "    # Make the prediction\n",
    "    predictions = model.predict(img_arr)\n",
    "\n",
    "    # Get the predicted class label\n",
    "    class_index = np.argmax(predictions)\n",
    "    class_label = list(train_generator.class_indices)[class_index]\n",
    "\n",
    "    return class_label\n",
    "\n"
   ]
  },
  {
   "cell_type": "code",
   "execution_count": 31,
   "metadata": {},
   "outputs": [
    {
     "name": "stdout",
     "output_type": "stream",
     "text": [
      "1/1 [==============================] - 0s 167ms/step\n"
     ]
    },
    {
     "data": {
      "text/plain": [
       "'Monkey'"
      ]
     },
     "execution_count": 31,
     "metadata": {},
     "output_type": "execute_result"
    }
   ],
   "source": [
    "predict_image_class('bear.jpg',model)"
   ]
  },
  {
   "cell_type": "code",
   "execution_count": 29,
   "metadata": {},
   "outputs": [
    {
     "data": {
      "text/plain": [
       "'Canary'"
      ]
     },
     "execution_count": 29,
     "metadata": {},
     "output_type": "execute_result"
    }
   ],
   "source": [
    "list(train_generator.class_indices)[5]\n"
   ]
  },
  {
   "cell_type": "code",
   "execution_count": 28,
   "metadata": {
    "collapsed": true
   },
   "outputs": [
    {
     "data": {
      "text/plain": [
       "{'Bear': 0,\n",
       " 'Brown bear': 1,\n",
       " 'Bull': 2,\n",
       " 'Butterfly': 3,\n",
       " 'Camel': 4,\n",
       " 'Canary': 5,\n",
       " 'Caterpillar': 6,\n",
       " 'Cattle': 7,\n",
       " 'Centipede': 8,\n",
       " 'Cheetah': 9,\n",
       " 'Chicken': 10,\n",
       " 'Crab': 11,\n",
       " 'Crocodile': 12,\n",
       " 'Deer': 13,\n",
       " 'Duck': 14,\n",
       " 'Eagle': 15,\n",
       " 'Elephant': 16,\n",
       " 'Fish': 17,\n",
       " 'Fox': 18,\n",
       " 'Frog': 19,\n",
       " 'Giraffe': 20,\n",
       " 'Goat': 21,\n",
       " 'Goldfish': 22,\n",
       " 'Goose': 23,\n",
       " 'Hamster': 24,\n",
       " 'Harbor seal': 25,\n",
       " 'Hedgehog': 26,\n",
       " 'Hippopotamus': 27,\n",
       " 'Horse': 28,\n",
       " 'Jaguar': 29,\n",
       " 'Jellyfish': 30,\n",
       " 'Kangaroo': 31,\n",
       " 'Koala': 32,\n",
       " 'Ladybug': 33,\n",
       " 'Leopard': 34,\n",
       " 'Lion': 35,\n",
       " 'Lizard': 36,\n",
       " 'Lynx': 37,\n",
       " 'Magpie': 38,\n",
       " 'Monkey': 39,\n",
       " 'Moths and butterflies': 40,\n",
       " 'Mouse': 41,\n",
       " 'Mule': 42,\n",
       " 'Ostrich': 43,\n",
       " 'Otter': 44,\n",
       " 'Owl': 45,\n",
       " 'Panda': 46,\n",
       " 'Parrot': 47,\n",
       " 'Penguin': 48,\n",
       " 'Pig': 49,\n",
       " 'Polar bear': 50,\n",
       " 'Rabbit': 51,\n",
       " 'Raccoon': 52,\n",
       " 'Raven': 53,\n",
       " 'Red panda': 54,\n",
       " 'Rhinoceros': 55,\n",
       " 'Scorpion': 56,\n",
       " 'Sea lion': 57,\n",
       " 'Sea turtle': 58,\n",
       " 'Seahorse': 59,\n",
       " 'Shark': 60,\n",
       " 'Sheep': 61,\n",
       " 'Shrimp': 62,\n",
       " 'Snail': 63,\n",
       " 'Snake': 64,\n",
       " 'Sparrow': 65,\n",
       " 'Spider': 66,\n",
       " 'Squid': 67,\n",
       " 'Squirrel': 68,\n",
       " 'Starfish': 69,\n",
       " 'Swan': 70,\n",
       " 'Tick': 71,\n",
       " 'Tiger': 72,\n",
       " 'Tortoise': 73,\n",
       " 'Turkey': 74,\n",
       " 'Turtle': 75,\n",
       " 'Whale': 76,\n",
       " 'Woodpecker': 77,\n",
       " 'Worm': 78,\n",
       " 'Zebra': 79}"
      ]
     },
     "execution_count": 28,
     "metadata": {},
     "output_type": "execute_result"
    }
   ],
   "source": [
    "train_generator.class_indices"
   ]
  },
  {
   "cell_type": "code",
   "execution_count": 32,
   "metadata": {},
   "outputs": [
    {
     "name": "stdout",
     "output_type": "stream",
     "text": [
      "1/1 [==============================] - 0s 291ms/step\n"
     ]
    },
    {
     "data": {
      "text/plain": [
       "'Snail'"
      ]
     },
     "execution_count": 32,
     "metadata": {},
     "output_type": "execute_result"
    }
   ],
   "source": [
    "predict_image_class('monkey.jpg',model)"
   ]
  },
  {
   "cell_type": "code",
   "execution_count": 33,
   "metadata": {},
   "outputs": [
    {
     "name": "stdout",
     "output_type": "stream",
     "text": [
      "1/1 [==============================] - 0s 372ms/step\n"
     ]
    },
    {
     "data": {
      "text/plain": [
       "'Monkey'"
      ]
     },
     "execution_count": 33,
     "metadata": {},
     "output_type": "execute_result"
    }
   ],
   "source": [
    "predict_image_class('monkeyb.jpg',model)"
   ]
  },
  {
   "cell_type": "code",
   "execution_count": 34,
   "metadata": {},
   "outputs": [
    {
     "name": "stdout",
     "output_type": "stream",
     "text": [
      "1/1 [==============================] - 0s 109ms/step\n"
     ]
    },
    {
     "data": {
      "text/plain": [
       "'Spider'"
      ]
     },
     "execution_count": 34,
     "metadata": {},
     "output_type": "execute_result"
    }
   ],
   "source": [
    "predict_image_class('centipede.jpg',model)"
   ]
  },
  {
   "cell_type": "code",
   "execution_count": 35,
   "metadata": {},
   "outputs": [
    {
     "name": "stdout",
     "output_type": "stream",
     "text": [
      "1/1 [==============================] - 0s 57ms/step\n"
     ]
    },
    {
     "data": {
      "text/plain": [
       "'Centipede'"
      ]
     },
     "execution_count": 35,
     "metadata": {},
     "output_type": "execute_result"
    }
   ],
   "source": [
    "predict_image_class('centipedeb.jpg',model)"
   ]
  },
  {
   "cell_type": "code",
   "execution_count": 36,
   "metadata": {},
   "outputs": [
    {
     "data": {
      "text/plain": [
       "<keras.engine.sequential.Sequential at 0x1f4817218b0>"
      ]
     },
     "execution_count": 36,
     "metadata": {},
     "output_type": "execute_result"
    }
   ],
   "source": [
    "model2 = joblib.load('model.pkl')\n",
    "model2"
   ]
  },
  {
   "cell_type": "code",
   "execution_count": 37,
   "metadata": {},
   "outputs": [
    {
     "name": "stdout",
     "output_type": "stream",
     "text": [
      "1/1 [==============================] - 1s 858ms/step\n"
     ]
    },
    {
     "data": {
      "text/plain": [
       "'Centipede'"
      ]
     },
     "execution_count": 37,
     "metadata": {},
     "output_type": "execute_result"
    }
   ],
   "source": [
    "predict_image_class('centipedeb.jpg',model2)"
   ]
  },
  {
   "cell_type": "code",
   "execution_count": 40,
   "metadata": {},
   "outputs": [
    {
     "name": "stdout",
     "output_type": "stream",
     "text": [
      "1/1 [==============================] - 0s 120ms/step\n"
     ]
    },
    {
     "data": {
      "text/plain": [
       "'Tiger'"
      ]
     },
     "execution_count": 40,
     "metadata": {},
     "output_type": "execute_result"
    }
   ],
   "source": [
    "predict_image_class('cattle.jpg',model2)"
   ]
  },
  {
   "cell_type": "code",
   "execution_count": 41,
   "metadata": {},
   "outputs": [
    {
     "name": "stdout",
     "output_type": "stream",
     "text": [
      "1/1 [==============================] - 0s 40ms/step\n"
     ]
    },
    {
     "data": {
      "text/plain": [
       "'Horse'"
      ]
     },
     "execution_count": 41,
     "metadata": {},
     "output_type": "execute_result"
    }
   ],
   "source": [
    "predict_image_class('cattleb.jpg',model2)"
   ]
  },
  {
   "cell_type": "code",
   "execution_count": 42,
   "metadata": {},
   "outputs": [
    {
     "name": "stdout",
     "output_type": "stream",
     "text": [
      "1/1 [==============================] - 0s 85ms/step\n"
     ]
    },
    {
     "data": {
      "text/plain": [
       "'Rhinoceros'"
      ]
     },
     "execution_count": 42,
     "metadata": {},
     "output_type": "execute_result"
    }
   ],
   "source": [
    "predict_image_class('rhino.jpg',model2)"
   ]
  },
  {
   "cell_type": "code",
   "execution_count": null,
   "metadata": {},
   "outputs": [],
   "source": [
    "predict_image_class('goldfish.jpg',model2)"
   ]
  },
  {
   "cell_type": "code",
   "execution_count": 2,
   "metadata": {},
   "outputs": [
    {
     "data": {
      "text/plain": [
       "'C:\\\\Users\\\\Admin 21\\\\Downloads\\\\Animal Image CNN Model'"
      ]
     },
     "execution_count": 2,
     "metadata": {},
     "output_type": "execute_result"
    }
   ],
   "source": [
    "pwd"
   ]
  },
  {
   "cell_type": "code",
   "execution_count": 40,
   "metadata": {},
   "outputs": [
    {
     "data": {
      "text/html": [
       "<div>\n",
       "<style scoped>\n",
       "    .dataframe tbody tr th:only-of-type {\n",
       "        vertical-align: middle;\n",
       "    }\n",
       "\n",
       "    .dataframe tbody tr th {\n",
       "        vertical-align: top;\n",
       "    }\n",
       "\n",
       "    .dataframe thead th {\n",
       "        text-align: right;\n",
       "    }\n",
       "</style>\n",
       "<table border=\"1\" class=\"dataframe\">\n",
       "  <thead>\n",
       "    <tr style=\"text-align: right;\">\n",
       "      <th></th>\n",
       "      <th>index</th>\n",
       "      <th>0</th>\n",
       "    </tr>\n",
       "  </thead>\n",
       "  <tbody>\n",
       "    <tr>\n",
       "      <th>0</th>\n",
       "      <td>Bear</td>\n",
       "      <td>0</td>\n",
       "    </tr>\n",
       "    <tr>\n",
       "      <th>1</th>\n",
       "      <td>Brown bear</td>\n",
       "      <td>1</td>\n",
       "    </tr>\n",
       "    <tr>\n",
       "      <th>2</th>\n",
       "      <td>Bull</td>\n",
       "      <td>2</td>\n",
       "    </tr>\n",
       "    <tr>\n",
       "      <th>3</th>\n",
       "      <td>Butterfly</td>\n",
       "      <td>3</td>\n",
       "    </tr>\n",
       "    <tr>\n",
       "      <th>4</th>\n",
       "      <td>Camel</td>\n",
       "      <td>4</td>\n",
       "    </tr>\n",
       "    <tr>\n",
       "      <th>...</th>\n",
       "      <td>...</td>\n",
       "      <td>...</td>\n",
       "    </tr>\n",
       "    <tr>\n",
       "      <th>75</th>\n",
       "      <td>Turtle</td>\n",
       "      <td>75</td>\n",
       "    </tr>\n",
       "    <tr>\n",
       "      <th>76</th>\n",
       "      <td>Whale</td>\n",
       "      <td>76</td>\n",
       "    </tr>\n",
       "    <tr>\n",
       "      <th>77</th>\n",
       "      <td>Woodpecker</td>\n",
       "      <td>77</td>\n",
       "    </tr>\n",
       "    <tr>\n",
       "      <th>78</th>\n",
       "      <td>Worm</td>\n",
       "      <td>78</td>\n",
       "    </tr>\n",
       "    <tr>\n",
       "      <th>79</th>\n",
       "      <td>Zebra</td>\n",
       "      <td>79</td>\n",
       "    </tr>\n",
       "  </tbody>\n",
       "</table>\n",
       "<p>80 rows × 2 columns</p>\n",
       "</div>"
      ],
      "text/plain": [
       "         index   0\n",
       "0         Bear   0\n",
       "1   Brown bear   1\n",
       "2         Bull   2\n",
       "3    Butterfly   3\n",
       "4        Camel   4\n",
       "..         ...  ..\n",
       "75      Turtle  75\n",
       "76       Whale  76\n",
       "77  Woodpecker  77\n",
       "78        Worm  78\n",
       "79       Zebra  79\n",
       "\n",
       "[80 rows x 2 columns]"
      ]
     },
     "execution_count": 40,
     "metadata": {},
     "output_type": "execute_result"
    }
   ],
   "source": [
    "import pandas as pd\n",
    "lt = train_generator.class_indices\n",
    "df = pd.DataFrame.from_dict(lt, orient='index').reset_index()\n",
    "df\n"
   ]
  },
  {
   "cell_type": "code",
   "execution_count": 44,
   "metadata": {},
   "outputs": [
    {
     "data": {
      "text/plain": [
       "'Monkey'"
      ]
     },
     "execution_count": 44,
     "metadata": {},
     "output_type": "execute_result"
    }
   ],
   "source": [
    "df['index'][39]"
   ]
  },
  {
   "cell_type": "code",
   "execution_count": 45,
   "metadata": {},
   "outputs": [
    {
     "data": {
      "text/plain": [
       "{'Bear': 0,\n",
       " 'Brown bear': 1,\n",
       " 'Bull': 2,\n",
       " 'Butterfly': 3,\n",
       " 'Camel': 4,\n",
       " 'Canary': 5,\n",
       " 'Caterpillar': 6,\n",
       " 'Cattle': 7,\n",
       " 'Centipede': 8,\n",
       " 'Cheetah': 9,\n",
       " 'Chicken': 10,\n",
       " 'Crab': 11,\n",
       " 'Crocodile': 12,\n",
       " 'Deer': 13,\n",
       " 'Duck': 14,\n",
       " 'Eagle': 15,\n",
       " 'Elephant': 16,\n",
       " 'Fish': 17,\n",
       " 'Fox': 18,\n",
       " 'Frog': 19,\n",
       " 'Giraffe': 20,\n",
       " 'Goat': 21,\n",
       " 'Goldfish': 22,\n",
       " 'Goose': 23,\n",
       " 'Hamster': 24,\n",
       " 'Harbor seal': 25,\n",
       " 'Hedgehog': 26,\n",
       " 'Hippopotamus': 27,\n",
       " 'Horse': 28,\n",
       " 'Jaguar': 29,\n",
       " 'Jellyfish': 30,\n",
       " 'Kangaroo': 31,\n",
       " 'Koala': 32,\n",
       " 'Ladybug': 33,\n",
       " 'Leopard': 34,\n",
       " 'Lion': 35,\n",
       " 'Lizard': 36,\n",
       " 'Lynx': 37,\n",
       " 'Magpie': 38,\n",
       " 'Monkey': 39,\n",
       " 'Moths and butterflies': 40,\n",
       " 'Mouse': 41,\n",
       " 'Mule': 42,\n",
       " 'Ostrich': 43,\n",
       " 'Otter': 44,\n",
       " 'Owl': 45,\n",
       " 'Panda': 46,\n",
       " 'Parrot': 47,\n",
       " 'Penguin': 48,\n",
       " 'Pig': 49,\n",
       " 'Polar bear': 50,\n",
       " 'Rabbit': 51,\n",
       " 'Raccoon': 52,\n",
       " 'Raven': 53,\n",
       " 'Red panda': 54,\n",
       " 'Rhinoceros': 55,\n",
       " 'Scorpion': 56,\n",
       " 'Sea lion': 57,\n",
       " 'Sea turtle': 58,\n",
       " 'Seahorse': 59,\n",
       " 'Shark': 60,\n",
       " 'Sheep': 61,\n",
       " 'Shrimp': 62,\n",
       " 'Snail': 63,\n",
       " 'Snake': 64,\n",
       " 'Sparrow': 65,\n",
       " 'Spider': 66,\n",
       " 'Squid': 67,\n",
       " 'Squirrel': 68,\n",
       " 'Starfish': 69,\n",
       " 'Swan': 70,\n",
       " 'Tick': 71,\n",
       " 'Tiger': 72,\n",
       " 'Tortoise': 73,\n",
       " 'Turkey': 74,\n",
       " 'Turtle': 75,\n",
       " 'Whale': 76,\n",
       " 'Woodpecker': 77,\n",
       " 'Worm': 78,\n",
       " 'Zebra': 79}"
      ]
     },
     "execution_count": 45,
     "metadata": {},
     "output_type": "execute_result"
    }
   ],
   "source": [
    "lt"
   ]
  },
  {
   "cell_type": "code",
   "execution_count": 47,
   "metadata": {},
   "outputs": [],
   "source": [
    "df.to_csv('animaldict.csv')"
   ]
  },
  {
   "cell_type": "code",
   "execution_count": 48,
   "metadata": {},
   "outputs": [
    {
     "data": {
      "text/plain": [
       "'Monkey'"
      ]
     },
     "execution_count": 48,
     "metadata": {},
     "output_type": "execute_result"
    }
   ],
   "source": [
    "df = pd.read_csv(\"animaldict.csv\")\n",
    "df['index'][39]"
   ]
  },
  {
   "cell_type": "code",
   "execution_count": null,
   "metadata": {},
   "outputs": [],
   "source": [
    "df"
   ]
  }
 ],
 "metadata": {
  "kernelspec": {
   "display_name": "Python 3 (ipykernel)",
   "language": "python",
   "name": "python3"
  },
  "language_info": {
   "codemirror_mode": {
    "name": "ipython",
    "version": 3
   },
   "file_extension": ".py",
   "mimetype": "text/x-python",
   "name": "python",
   "nbconvert_exporter": "python",
   "pygments_lexer": "ipython3",
   "version": "3.9.13"
  }
 },
 "nbformat": 4,
 "nbformat_minor": 2
}
